{
 "cells": [
  {
   "cell_type": "code",
   "execution_count": 1,
   "id": "67d664f7",
   "metadata": {},
   "outputs": [],
   "source": [
    "# Importing libraries\n",
    "import numpy as np\n",
    "import pandas as pd\n",
    "import matplotlib.pyplot as plt"
   ]
  },
  {
   "cell_type": "code",
   "execution_count": 2,
   "id": "44d7d3a9",
   "metadata": {},
   "outputs": [
    {
     "data": {
      "text/html": [
       "<div>\n",
       "<style scoped>\n",
       "    .dataframe tbody tr th:only-of-type {\n",
       "        vertical-align: middle;\n",
       "    }\n",
       "\n",
       "    .dataframe tbody tr th {\n",
       "        vertical-align: top;\n",
       "    }\n",
       "\n",
       "    .dataframe thead th {\n",
       "        text-align: right;\n",
       "    }\n",
       "</style>\n",
       "<table border=\"1\" class=\"dataframe\">\n",
       "  <thead>\n",
       "    <tr style=\"text-align: right;\">\n",
       "      <th></th>\n",
       "      <th>Car_Name</th>\n",
       "      <th>Year</th>\n",
       "      <th>Selling_Price</th>\n",
       "      <th>Present_Price</th>\n",
       "      <th>Kms_Driven</th>\n",
       "      <th>Fuel_Type</th>\n",
       "      <th>Seller_Type</th>\n",
       "      <th>Transmission</th>\n",
       "      <th>Owner</th>\n",
       "    </tr>\n",
       "  </thead>\n",
       "  <tbody>\n",
       "    <tr>\n",
       "      <th>0</th>\n",
       "      <td>ritz</td>\n",
       "      <td>2014</td>\n",
       "      <td>3.35</td>\n",
       "      <td>5.59</td>\n",
       "      <td>27000</td>\n",
       "      <td>Petrol</td>\n",
       "      <td>Dealer</td>\n",
       "      <td>Manual</td>\n",
       "      <td>0</td>\n",
       "    </tr>\n",
       "    <tr>\n",
       "      <th>1</th>\n",
       "      <td>sx4</td>\n",
       "      <td>2013</td>\n",
       "      <td>4.75</td>\n",
       "      <td>9.54</td>\n",
       "      <td>43000</td>\n",
       "      <td>Diesel</td>\n",
       "      <td>Dealer</td>\n",
       "      <td>Manual</td>\n",
       "      <td>0</td>\n",
       "    </tr>\n",
       "    <tr>\n",
       "      <th>2</th>\n",
       "      <td>ciaz</td>\n",
       "      <td>2017</td>\n",
       "      <td>7.25</td>\n",
       "      <td>9.85</td>\n",
       "      <td>6900</td>\n",
       "      <td>Petrol</td>\n",
       "      <td>Dealer</td>\n",
       "      <td>Manual</td>\n",
       "      <td>0</td>\n",
       "    </tr>\n",
       "    <tr>\n",
       "      <th>3</th>\n",
       "      <td>wagon r</td>\n",
       "      <td>2011</td>\n",
       "      <td>2.85</td>\n",
       "      <td>4.15</td>\n",
       "      <td>5200</td>\n",
       "      <td>Petrol</td>\n",
       "      <td>Dealer</td>\n",
       "      <td>Manual</td>\n",
       "      <td>0</td>\n",
       "    </tr>\n",
       "    <tr>\n",
       "      <th>4</th>\n",
       "      <td>swift</td>\n",
       "      <td>2014</td>\n",
       "      <td>4.60</td>\n",
       "      <td>6.87</td>\n",
       "      <td>42450</td>\n",
       "      <td>Diesel</td>\n",
       "      <td>Dealer</td>\n",
       "      <td>Manual</td>\n",
       "      <td>0</td>\n",
       "    </tr>\n",
       "    <tr>\n",
       "      <th>...</th>\n",
       "      <td>...</td>\n",
       "      <td>...</td>\n",
       "      <td>...</td>\n",
       "      <td>...</td>\n",
       "      <td>...</td>\n",
       "      <td>...</td>\n",
       "      <td>...</td>\n",
       "      <td>...</td>\n",
       "      <td>...</td>\n",
       "    </tr>\n",
       "    <tr>\n",
       "      <th>296</th>\n",
       "      <td>city</td>\n",
       "      <td>2016</td>\n",
       "      <td>9.50</td>\n",
       "      <td>11.60</td>\n",
       "      <td>33988</td>\n",
       "      <td>Diesel</td>\n",
       "      <td>Dealer</td>\n",
       "      <td>Manual</td>\n",
       "      <td>0</td>\n",
       "    </tr>\n",
       "    <tr>\n",
       "      <th>297</th>\n",
       "      <td>brio</td>\n",
       "      <td>2015</td>\n",
       "      <td>4.00</td>\n",
       "      <td>5.90</td>\n",
       "      <td>60000</td>\n",
       "      <td>Petrol</td>\n",
       "      <td>Dealer</td>\n",
       "      <td>Manual</td>\n",
       "      <td>0</td>\n",
       "    </tr>\n",
       "    <tr>\n",
       "      <th>298</th>\n",
       "      <td>city</td>\n",
       "      <td>2009</td>\n",
       "      <td>3.35</td>\n",
       "      <td>11.00</td>\n",
       "      <td>87934</td>\n",
       "      <td>Petrol</td>\n",
       "      <td>Dealer</td>\n",
       "      <td>Manual</td>\n",
       "      <td>0</td>\n",
       "    </tr>\n",
       "    <tr>\n",
       "      <th>299</th>\n",
       "      <td>city</td>\n",
       "      <td>2017</td>\n",
       "      <td>11.50</td>\n",
       "      <td>12.50</td>\n",
       "      <td>9000</td>\n",
       "      <td>Diesel</td>\n",
       "      <td>Dealer</td>\n",
       "      <td>Manual</td>\n",
       "      <td>0</td>\n",
       "    </tr>\n",
       "    <tr>\n",
       "      <th>300</th>\n",
       "      <td>brio</td>\n",
       "      <td>2016</td>\n",
       "      <td>5.30</td>\n",
       "      <td>5.90</td>\n",
       "      <td>5464</td>\n",
       "      <td>Petrol</td>\n",
       "      <td>Dealer</td>\n",
       "      <td>Manual</td>\n",
       "      <td>0</td>\n",
       "    </tr>\n",
       "  </tbody>\n",
       "</table>\n",
       "<p>301 rows × 9 columns</p>\n",
       "</div>"
      ],
      "text/plain": [
       "    Car_Name  Year  Selling_Price  Present_Price  Kms_Driven Fuel_Type  \\\n",
       "0       ritz  2014           3.35           5.59       27000    Petrol   \n",
       "1        sx4  2013           4.75           9.54       43000    Diesel   \n",
       "2       ciaz  2017           7.25           9.85        6900    Petrol   \n",
       "3    wagon r  2011           2.85           4.15        5200    Petrol   \n",
       "4      swift  2014           4.60           6.87       42450    Diesel   \n",
       "..       ...   ...            ...            ...         ...       ...   \n",
       "296     city  2016           9.50          11.60       33988    Diesel   \n",
       "297     brio  2015           4.00           5.90       60000    Petrol   \n",
       "298     city  2009           3.35          11.00       87934    Petrol   \n",
       "299     city  2017          11.50          12.50        9000    Diesel   \n",
       "300     brio  2016           5.30           5.90        5464    Petrol   \n",
       "\n",
       "    Seller_Type Transmission  Owner  \n",
       "0        Dealer       Manual      0  \n",
       "1        Dealer       Manual      0  \n",
       "2        Dealer       Manual      0  \n",
       "3        Dealer       Manual      0  \n",
       "4        Dealer       Manual      0  \n",
       "..          ...          ...    ...  \n",
       "296      Dealer       Manual      0  \n",
       "297      Dealer       Manual      0  \n",
       "298      Dealer       Manual      0  \n",
       "299      Dealer       Manual      0  \n",
       "300      Dealer       Manual      0  \n",
       "\n",
       "[301 rows x 9 columns]"
      ]
     },
     "execution_count": 2,
     "metadata": {},
     "output_type": "execute_result"
    }
   ],
   "source": [
    "# Loading the datasets from CSV file to Pandas DataFrame\n",
    "car_data = pd.read_csv(\"car data.csv\")\n",
    "car_data"
   ]
  },
  {
   "cell_type": "code",
   "execution_count": 3,
   "id": "c30ad496",
   "metadata": {},
   "outputs": [
    {
     "data": {
      "text/plain": [
       "Car_Name         0\n",
       "Year             0\n",
       "Selling_Price    0\n",
       "Present_Price    0\n",
       "Kms_Driven       0\n",
       "Fuel_Type        0\n",
       "Seller_Type      0\n",
       "Transmission     0\n",
       "Owner            0\n",
       "dtype: int64"
      ]
     },
     "execution_count": 3,
     "metadata": {},
     "output_type": "execute_result"
    }
   ],
   "source": [
    "# Finding the missing values\n",
    "car_data.isnull().sum()"
   ]
  },
  {
   "cell_type": "code",
   "execution_count": 4,
   "id": "f7a0aedd",
   "metadata": {},
   "outputs": [
    {
     "data": {
      "text/plain": [
       "2"
      ]
     },
     "execution_count": 4,
     "metadata": {},
     "output_type": "execute_result"
    }
   ],
   "source": [
    "# Finding Duplicate values\n",
    "car_data.duplicated().sum()"
   ]
  },
  {
   "cell_type": "code",
   "execution_count": 5,
   "id": "75a57373",
   "metadata": {},
   "outputs": [
    {
     "data": {
      "text/plain": [
       "0"
      ]
     },
     "execution_count": 5,
     "metadata": {},
     "output_type": "execute_result"
    }
   ],
   "source": [
    "# Handling duplicate values\n",
    "car_data.drop_duplicates(inplace=True)\n",
    "car_data.duplicated().sum()"
   ]
  },
  {
   "cell_type": "code",
   "execution_count": 6,
   "id": "7ed9c97b",
   "metadata": {},
   "outputs": [
    {
     "name": "stdout",
     "output_type": "stream",
     "text": [
      "<class 'pandas.core.frame.DataFrame'>\n",
      "Int64Index: 299 entries, 0 to 300\n",
      "Data columns (total 9 columns):\n",
      " #   Column         Non-Null Count  Dtype  \n",
      "---  ------         --------------  -----  \n",
      " 0   Car_Name       299 non-null    object \n",
      " 1   Year           299 non-null    int64  \n",
      " 2   Selling_Price  299 non-null    float64\n",
      " 3   Present_Price  299 non-null    float64\n",
      " 4   Kms_Driven     299 non-null    int64  \n",
      " 5   Fuel_Type      299 non-null    object \n",
      " 6   Seller_Type    299 non-null    object \n",
      " 7   Transmission   299 non-null    object \n",
      " 8   Owner          299 non-null    int64  \n",
      "dtypes: float64(2), int64(3), object(4)\n",
      "memory usage: 23.4+ KB\n"
     ]
    }
   ],
   "source": [
    "# Getting some information about dataset\n",
    "car_data.info()"
   ]
  },
  {
   "cell_type": "code",
   "execution_count": 7,
   "id": "73b13eee",
   "metadata": {
    "scrolled": true
   },
   "outputs": [
    {
     "name": "stdout",
     "output_type": "stream",
     "text": [
      "city                        26\n",
      "corolla altis               16\n",
      "verna                       14\n",
      "brio                        10\n",
      "fortuner                    10\n",
      "                            ..\n",
      "Honda CB Trigger             1\n",
      "Yamaha FZ S                  1\n",
      "Bajaj Pulsar 135 LS          1\n",
      "Activa 4g                    1\n",
      "Bajaj Avenger Street 220     1\n",
      "Name: Car_Name, Length: 98, dtype: int64\n",
      "Petrol    239\n",
      "Diesel     58\n",
      "CNG         2\n",
      "Name: Fuel_Type, dtype: int64\n",
      "Dealer        193\n",
      "Individual    106\n",
      "Name: Seller_Type, dtype: int64\n",
      "Manual       260\n",
      "Automatic     39\n",
      "Name: Transmission, dtype: int64\n"
     ]
    }
   ],
   "source": [
    "# Cheaking the distribution of categorical data\n",
    "\n",
    "print(car_data['Car_Name'].value_counts())\n",
    "print(car_data['Fuel_Type'].value_counts())\n",
    "print(car_data['Seller_Type'].value_counts())\n",
    "print(car_data['Transmission'].value_counts())"
   ]
  },
  {
   "cell_type": "code",
   "execution_count": 8,
   "id": "29cf9a25",
   "metadata": {},
   "outputs": [],
   "source": [
    "# Dropping 'Car_Name' column from the dataset\n",
    "car_data.drop(columns=['Car_Name'],axis=1,inplace=True)"
   ]
  },
  {
   "cell_type": "code",
   "execution_count": 9,
   "id": "56dd342c",
   "metadata": {},
   "outputs": [
    {
     "name": "stderr",
     "output_type": "stream",
     "text": [
      "C:\\Users\\Tanvir Ahmed\\.conda\\envs\\dl\\lib\\site-packages\\ipykernel_launcher.py:6: DeprecationWarning: Converting `np.inexact` or `np.floating` to a dtype is deprecated. The current result is `float64` which is not strictly correct.\n",
      "  \n"
     ]
    }
   ],
   "source": [
    "#Encoding the all categorical columns of car_data dataset\n",
    "from sklearn.preprocessing import LabelEncoder\n",
    "le = LabelEncoder()\n",
    "\n",
    "for column in car_data.columns:\n",
    "    if car_data[column].dtype == np.number:\n",
    "        continue\n",
    "    car_data[column] = le.fit_transform(car_data[column])"
   ]
  },
  {
   "cell_type": "code",
   "execution_count": 10,
   "id": "9cc7c044",
   "metadata": {},
   "outputs": [
    {
     "data": {
      "text/html": [
       "<div>\n",
       "<style scoped>\n",
       "    .dataframe tbody tr th:only-of-type {\n",
       "        vertical-align: middle;\n",
       "    }\n",
       "\n",
       "    .dataframe tbody tr th {\n",
       "        vertical-align: top;\n",
       "    }\n",
       "\n",
       "    .dataframe thead th {\n",
       "        text-align: right;\n",
       "    }\n",
       "</style>\n",
       "<table border=\"1\" class=\"dataframe\">\n",
       "  <thead>\n",
       "    <tr style=\"text-align: right;\">\n",
       "      <th></th>\n",
       "      <th>Year</th>\n",
       "      <th>Selling_Price</th>\n",
       "      <th>Present_Price</th>\n",
       "      <th>Kms_Driven</th>\n",
       "      <th>Fuel_Type</th>\n",
       "      <th>Seller_Type</th>\n",
       "      <th>Transmission</th>\n",
       "      <th>Owner</th>\n",
       "    </tr>\n",
       "  </thead>\n",
       "  <tbody>\n",
       "    <tr>\n",
       "      <th>0</th>\n",
       "      <td>11</td>\n",
       "      <td>3.35</td>\n",
       "      <td>5.59</td>\n",
       "      <td>86</td>\n",
       "      <td>2</td>\n",
       "      <td>0</td>\n",
       "      <td>1</td>\n",
       "      <td>0</td>\n",
       "    </tr>\n",
       "    <tr>\n",
       "      <th>1</th>\n",
       "      <td>10</td>\n",
       "      <td>4.75</td>\n",
       "      <td>9.54</td>\n",
       "      <td>135</td>\n",
       "      <td>1</td>\n",
       "      <td>0</td>\n",
       "      <td>1</td>\n",
       "      <td>0</td>\n",
       "    </tr>\n",
       "    <tr>\n",
       "      <th>2</th>\n",
       "      <td>14</td>\n",
       "      <td>7.25</td>\n",
       "      <td>9.85</td>\n",
       "      <td>26</td>\n",
       "      <td>2</td>\n",
       "      <td>0</td>\n",
       "      <td>1</td>\n",
       "      <td>0</td>\n",
       "    </tr>\n",
       "    <tr>\n",
       "      <th>3</th>\n",
       "      <td>8</td>\n",
       "      <td>2.85</td>\n",
       "      <td>4.15</td>\n",
       "      <td>18</td>\n",
       "      <td>2</td>\n",
       "      <td>0</td>\n",
       "      <td>1</td>\n",
       "      <td>0</td>\n",
       "    </tr>\n",
       "    <tr>\n",
       "      <th>4</th>\n",
       "      <td>11</td>\n",
       "      <td>4.60</td>\n",
       "      <td>6.87</td>\n",
       "      <td>134</td>\n",
       "      <td>1</td>\n",
       "      <td>0</td>\n",
       "      <td>1</td>\n",
       "      <td>0</td>\n",
       "    </tr>\n",
       "    <tr>\n",
       "      <th>...</th>\n",
       "      <td>...</td>\n",
       "      <td>...</td>\n",
       "      <td>...</td>\n",
       "      <td>...</td>\n",
       "      <td>...</td>\n",
       "      <td>...</td>\n",
       "      <td>...</td>\n",
       "      <td>...</td>\n",
       "    </tr>\n",
       "    <tr>\n",
       "      <th>296</th>\n",
       "      <td>13</td>\n",
       "      <td>9.50</td>\n",
       "      <td>11.60</td>\n",
       "      <td>103</td>\n",
       "      <td>1</td>\n",
       "      <td>0</td>\n",
       "      <td>1</td>\n",
       "      <td>0</td>\n",
       "    </tr>\n",
       "    <tr>\n",
       "      <th>297</th>\n",
       "      <td>12</td>\n",
       "      <td>4.00</td>\n",
       "      <td>5.90</td>\n",
       "      <td>172</td>\n",
       "      <td>2</td>\n",
       "      <td>0</td>\n",
       "      <td>1</td>\n",
       "      <td>0</td>\n",
       "    </tr>\n",
       "    <tr>\n",
       "      <th>298</th>\n",
       "      <td>6</td>\n",
       "      <td>3.35</td>\n",
       "      <td>11.00</td>\n",
       "      <td>193</td>\n",
       "      <td>2</td>\n",
       "      <td>0</td>\n",
       "      <td>1</td>\n",
       "      <td>0</td>\n",
       "    </tr>\n",
       "    <tr>\n",
       "      <th>299</th>\n",
       "      <td>14</td>\n",
       "      <td>11.50</td>\n",
       "      <td>12.50</td>\n",
       "      <td>31</td>\n",
       "      <td>1</td>\n",
       "      <td>0</td>\n",
       "      <td>1</td>\n",
       "      <td>0</td>\n",
       "    </tr>\n",
       "    <tr>\n",
       "      <th>300</th>\n",
       "      <td>13</td>\n",
       "      <td>5.30</td>\n",
       "      <td>5.90</td>\n",
       "      <td>20</td>\n",
       "      <td>2</td>\n",
       "      <td>0</td>\n",
       "      <td>1</td>\n",
       "      <td>0</td>\n",
       "    </tr>\n",
       "  </tbody>\n",
       "</table>\n",
       "<p>299 rows × 8 columns</p>\n",
       "</div>"
      ],
      "text/plain": [
       "     Year  Selling_Price  Present_Price  Kms_Driven  Fuel_Type  Seller_Type  \\\n",
       "0      11           3.35           5.59          86          2            0   \n",
       "1      10           4.75           9.54         135          1            0   \n",
       "2      14           7.25           9.85          26          2            0   \n",
       "3       8           2.85           4.15          18          2            0   \n",
       "4      11           4.60           6.87         134          1            0   \n",
       "..    ...            ...            ...         ...        ...          ...   \n",
       "296    13           9.50          11.60         103          1            0   \n",
       "297    12           4.00           5.90         172          2            0   \n",
       "298     6           3.35          11.00         193          2            0   \n",
       "299    14          11.50          12.50          31          1            0   \n",
       "300    13           5.30           5.90          20          2            0   \n",
       "\n",
       "     Transmission  Owner  \n",
       "0               1      0  \n",
       "1               1      0  \n",
       "2               1      0  \n",
       "3               1      0  \n",
       "4               1      0  \n",
       "..            ...    ...  \n",
       "296             1      0  \n",
       "297             1      0  \n",
       "298             1      0  \n",
       "299             1      0  \n",
       "300             1      0  \n",
       "\n",
       "[299 rows x 8 columns]"
      ]
     },
     "execution_count": 10,
     "metadata": {},
     "output_type": "execute_result"
    }
   ],
   "source": [
    "car_data"
   ]
  },
  {
   "cell_type": "code",
   "execution_count": 11,
   "id": "694c5bb7",
   "metadata": {},
   "outputs": [],
   "source": [
    "# Extracting Independent and Dependent column\n",
    "x = car_data.drop(columns=['Selling_Price'],axis=1)\n",
    "y = car_data['Selling_Price']"
   ]
  },
  {
   "cell_type": "code",
   "execution_count": 12,
   "id": "30daf3dd",
   "metadata": {
    "scrolled": true
   },
   "outputs": [
    {
     "data": {
      "text/html": [
       "<div>\n",
       "<style scoped>\n",
       "    .dataframe tbody tr th:only-of-type {\n",
       "        vertical-align: middle;\n",
       "    }\n",
       "\n",
       "    .dataframe tbody tr th {\n",
       "        vertical-align: top;\n",
       "    }\n",
       "\n",
       "    .dataframe thead th {\n",
       "        text-align: right;\n",
       "    }\n",
       "</style>\n",
       "<table border=\"1\" class=\"dataframe\">\n",
       "  <thead>\n",
       "    <tr style=\"text-align: right;\">\n",
       "      <th></th>\n",
       "      <th>Year</th>\n",
       "      <th>Present_Price</th>\n",
       "      <th>Kms_Driven</th>\n",
       "      <th>Fuel_Type</th>\n",
       "      <th>Seller_Type</th>\n",
       "      <th>Transmission</th>\n",
       "      <th>Owner</th>\n",
       "    </tr>\n",
       "  </thead>\n",
       "  <tbody>\n",
       "    <tr>\n",
       "      <th>0</th>\n",
       "      <td>11</td>\n",
       "      <td>5.59</td>\n",
       "      <td>86</td>\n",
       "      <td>2</td>\n",
       "      <td>0</td>\n",
       "      <td>1</td>\n",
       "      <td>0</td>\n",
       "    </tr>\n",
       "    <tr>\n",
       "      <th>1</th>\n",
       "      <td>10</td>\n",
       "      <td>9.54</td>\n",
       "      <td>135</td>\n",
       "      <td>1</td>\n",
       "      <td>0</td>\n",
       "      <td>1</td>\n",
       "      <td>0</td>\n",
       "    </tr>\n",
       "    <tr>\n",
       "      <th>2</th>\n",
       "      <td>14</td>\n",
       "      <td>9.85</td>\n",
       "      <td>26</td>\n",
       "      <td>2</td>\n",
       "      <td>0</td>\n",
       "      <td>1</td>\n",
       "      <td>0</td>\n",
       "    </tr>\n",
       "    <tr>\n",
       "      <th>3</th>\n",
       "      <td>8</td>\n",
       "      <td>4.15</td>\n",
       "      <td>18</td>\n",
       "      <td>2</td>\n",
       "      <td>0</td>\n",
       "      <td>1</td>\n",
       "      <td>0</td>\n",
       "    </tr>\n",
       "    <tr>\n",
       "      <th>4</th>\n",
       "      <td>11</td>\n",
       "      <td>6.87</td>\n",
       "      <td>134</td>\n",
       "      <td>1</td>\n",
       "      <td>0</td>\n",
       "      <td>1</td>\n",
       "      <td>0</td>\n",
       "    </tr>\n",
       "    <tr>\n",
       "      <th>...</th>\n",
       "      <td>...</td>\n",
       "      <td>...</td>\n",
       "      <td>...</td>\n",
       "      <td>...</td>\n",
       "      <td>...</td>\n",
       "      <td>...</td>\n",
       "      <td>...</td>\n",
       "    </tr>\n",
       "    <tr>\n",
       "      <th>296</th>\n",
       "      <td>13</td>\n",
       "      <td>11.60</td>\n",
       "      <td>103</td>\n",
       "      <td>1</td>\n",
       "      <td>0</td>\n",
       "      <td>1</td>\n",
       "      <td>0</td>\n",
       "    </tr>\n",
       "    <tr>\n",
       "      <th>297</th>\n",
       "      <td>12</td>\n",
       "      <td>5.90</td>\n",
       "      <td>172</td>\n",
       "      <td>2</td>\n",
       "      <td>0</td>\n",
       "      <td>1</td>\n",
       "      <td>0</td>\n",
       "    </tr>\n",
       "    <tr>\n",
       "      <th>298</th>\n",
       "      <td>6</td>\n",
       "      <td>11.00</td>\n",
       "      <td>193</td>\n",
       "      <td>2</td>\n",
       "      <td>0</td>\n",
       "      <td>1</td>\n",
       "      <td>0</td>\n",
       "    </tr>\n",
       "    <tr>\n",
       "      <th>299</th>\n",
       "      <td>14</td>\n",
       "      <td>12.50</td>\n",
       "      <td>31</td>\n",
       "      <td>1</td>\n",
       "      <td>0</td>\n",
       "      <td>1</td>\n",
       "      <td>0</td>\n",
       "    </tr>\n",
       "    <tr>\n",
       "      <th>300</th>\n",
       "      <td>13</td>\n",
       "      <td>5.90</td>\n",
       "      <td>20</td>\n",
       "      <td>2</td>\n",
       "      <td>0</td>\n",
       "      <td>1</td>\n",
       "      <td>0</td>\n",
       "    </tr>\n",
       "  </tbody>\n",
       "</table>\n",
       "<p>299 rows × 7 columns</p>\n",
       "</div>"
      ],
      "text/plain": [
       "     Year  Present_Price  Kms_Driven  Fuel_Type  Seller_Type  Transmission  \\\n",
       "0      11           5.59          86          2            0             1   \n",
       "1      10           9.54         135          1            0             1   \n",
       "2      14           9.85          26          2            0             1   \n",
       "3       8           4.15          18          2            0             1   \n",
       "4      11           6.87         134          1            0             1   \n",
       "..    ...            ...         ...        ...          ...           ...   \n",
       "296    13          11.60         103          1            0             1   \n",
       "297    12           5.90         172          2            0             1   \n",
       "298     6          11.00         193          2            0             1   \n",
       "299    14          12.50          31          1            0             1   \n",
       "300    13           5.90          20          2            0             1   \n",
       "\n",
       "     Owner  \n",
       "0        0  \n",
       "1        0  \n",
       "2        0  \n",
       "3        0  \n",
       "4        0  \n",
       "..     ...  \n",
       "296      0  \n",
       "297      0  \n",
       "298      0  \n",
       "299      0  \n",
       "300      0  \n",
       "\n",
       "[299 rows x 7 columns]"
      ]
     },
     "execution_count": 12,
     "metadata": {},
     "output_type": "execute_result"
    }
   ],
   "source": [
    "x"
   ]
  },
  {
   "cell_type": "code",
   "execution_count": 13,
   "id": "d7ac506b",
   "metadata": {},
   "outputs": [
    {
     "data": {
      "text/plain": [
       "0       3.35\n",
       "1       4.75\n",
       "2       7.25\n",
       "3       2.85\n",
       "4       4.60\n",
       "       ...  \n",
       "296     9.50\n",
       "297     4.00\n",
       "298     3.35\n",
       "299    11.50\n",
       "300     5.30\n",
       "Name: Selling_Price, Length: 299, dtype: float64"
      ]
     },
     "execution_count": 13,
     "metadata": {},
     "output_type": "execute_result"
    }
   ],
   "source": [
    "y"
   ]
  },
  {
   "cell_type": "code",
   "execution_count": 14,
   "id": "ab696265",
   "metadata": {},
   "outputs": [],
   "source": [
    "# Splitting the dataset into training and test set\n",
    "from sklearn.model_selection import train_test_split\n",
    "x_train,x_test,y_train,y_test = train_test_split(x,y,test_size=0.2,random_state=2)"
   ]
  },
  {
   "cell_type": "code",
   "execution_count": 15,
   "id": "7367af0a",
   "metadata": {},
   "outputs": [
    {
     "name": "stdout",
     "output_type": "stream",
     "text": [
      "(299, 8) (239, 7) (60, 7)\n"
     ]
    }
   ],
   "source": [
    "print(car_data.shape,x_train.shape,x_test.shape)"
   ]
  },
  {
   "cell_type": "markdown",
   "id": "975f96c6",
   "metadata": {},
   "source": [
    "# Training the model to Linear Regression Model"
   ]
  },
  {
   "cell_type": "code",
   "execution_count": 16,
   "id": "1e13fc32",
   "metadata": {},
   "outputs": [
    {
     "data": {
      "text/plain": [
       "LinearRegression()"
      ]
     },
     "execution_count": 16,
     "metadata": {},
     "output_type": "execute_result"
    }
   ],
   "source": [
    "from sklearn.linear_model import LinearRegression\n",
    "lin_reg = LinearRegression()\n",
    "lin_reg.fit(x_train,y_train)"
   ]
  },
  {
   "cell_type": "markdown",
   "id": "80a062f8",
   "metadata": {},
   "source": [
    " # Model Evaluation"
   ]
  },
  {
   "cell_type": "code",
   "execution_count": 17,
   "id": "96568aec",
   "metadata": {},
   "outputs": [
    {
     "name": "stdout",
     "output_type": "stream",
     "text": [
      "Trianing Data Accuracy: 0.8885646701713119\n"
     ]
    }
   ],
   "source": [
    "# Training data accuracy\n",
    "print(\"Trianing Data Accuracy:\",lin_reg.score(x_train,y_train))"
   ]
  },
  {
   "cell_type": "code",
   "execution_count": 18,
   "id": "5ee40754",
   "metadata": {},
   "outputs": [
    {
     "data": {
      "text/plain": [
       "array([ 8.46785350e-01,  4.41645747e-01,  2.29046270e+00,  2.48045054e+00,\n",
       "        3.73719918e+00,  1.98542691e+00,  3.30277040e+00, -2.00019277e+00,\n",
       "        1.68642705e+00,  1.87369244e+00,  6.90462091e+00,  5.67567909e+00,\n",
       "       -2.70954199e-01,  4.77636633e+00,  3.18124641e+00,  9.34208296e-01,\n",
       "        9.52480883e+00,  4.79423933e+00,  3.07836889e+00,  4.89170084e+00,\n",
       "        1.73591629e+00,  6.11454025e+00,  5.83949980e+00,  7.50363288e+00,\n",
       "        5.61856306e+00,  9.60390735e-01,  8.71381577e+00,  7.19887284e+00,\n",
       "        5.34100139e+00,  2.01842673e+00,  5.65642685e+00,  2.11637467e+00,\n",
       "        3.76886120e-01,  3.40613731e+00,  4.24984492e+01,  1.02561119e+01,\n",
       "        2.32000433e+00,  2.99286940e+00,  8.19258459e+00,  4.55251942e+00,\n",
       "        3.62341763e-01,  5.13960574e+00,  5.06187413e+00,  7.07086932e-01,\n",
       "        1.44352459e+00,  8.55073815e+00,  5.73757266e+00,  1.27327468e+00,\n",
       "        7.90507201e+00,  8.18049654e+00,  2.72364922e+00, -1.15341011e+00,\n",
       "        1.43246149e+00,  9.63007259e+00,  1.71682974e+00,  7.50663722e+00,\n",
       "        1.05346679e+01,  5.59564723e+00,  7.43651584e-01,  1.77012174e+00,\n",
       "       -6.05624173e-01,  1.87326707e+00,  1.46683702e+00,  3.43552758e+00,\n",
       "        5.83159027e+00,  6.53085486e-01,  5.14449875e+00,  5.76142976e+00,\n",
       "        8.01830618e+00,  2.32078540e+00,  7.94444266e-01,  9.43369713e+00,\n",
       "        5.97863966e+00,  6.91185715e+00,  4.37182335e+00,  3.76955565e+00,\n",
       "        2.37408502e+00,  1.39387945e+00,  8.40303994e+00,  3.50881360e+00,\n",
       "        7.96451713e+00,  7.48388200e+00,  6.12361515e+00,  4.51458255e+00,\n",
       "        4.69290079e+00, -6.84773719e-02,  8.99088484e-01,  4.39901093e+00,\n",
       "        8.08621121e+00,  3.42939601e+00,  5.31241484e-02,  5.58659375e-01,\n",
       "        6.00489714e+00,  6.56723278e+00,  1.36504737e+00,  1.18193473e+00,\n",
       "        7.97558023e+00,  8.49052858e+00,  2.28890110e+00,  7.92949207e+00,\n",
       "        2.80299266e+00,  1.77640891e+00, -1.50365791e+00,  4.70263340e+00,\n",
       "        6.69581691e+00,  4.59280863e+00,  4.43976717e+00,  6.07090726e-01,\n",
       "        5.50082781e+00,  4.42653869e+00, -7.82618839e-01,  1.63149145e+01,\n",
       "        4.36747498e+00, -7.75223955e-02,  2.26040919e+00,  6.18030104e+00,\n",
       "        4.53571199e+00,  1.01577851e+01,  9.14651925e+00,  3.94086672e-01,\n",
       "        5.88961725e-01,  5.27160057e+00,  7.53534685e+00,  6.39711327e+00,\n",
       "       -2.46087920e+00, -3.36316196e+00,  9.97105209e+00,  4.13698474e-01,\n",
       "        8.34913014e+00,  2.01827817e+01,  4.01950075e+00,  1.50094631e+00,\n",
       "        2.68309745e+00, -1.86599067e+00, -3.12269095e+00,  5.39628586e+00,\n",
       "        3.25384040e-01,  2.22451184e+01,  6.92997356e+00,  3.19478216e+00,\n",
       "       -2.27188308e-01,  1.87704750e-01,  7.08316465e+00,  9.18952898e+00,\n",
       "        2.63393529e-02,  4.50790660e+00,  4.46246623e+00,  6.45986970e+00,\n",
       "        2.72784151e+00,  4.85844722e+00,  9.20456772e-01, -9.33194280e-01,\n",
       "        4.62423616e+00,  7.77696182e+00,  4.34795570e+00,  3.76438851e+00,\n",
       "        4.04244747e+00,  8.16594343e+00,  4.79045923e-01,  3.27314748e+00,\n",
       "        2.50171649e+00,  5.19333221e+00, -1.19647627e+00,  1.03943033e+01,\n",
       "        1.78544509e+00,  4.61853758e+00,  1.93839481e+01,  1.70819706e+01,\n",
       "        5.49139866e+00,  1.20365040e+01,  1.12838449e+00,  8.35401609e+00,\n",
       "        7.93416126e+00,  3.91538177e+00, -3.12776289e+00,  6.22853435e+00,\n",
       "        7.24631647e+00,  7.03826709e+00,  1.22017656e+00,  4.80701303e+00,\n",
       "        6.59806987e+00,  2.65206816e+00,  2.77298847e-01,  3.99895056e+00,\n",
       "        5.92667646e+00,  6.36030182e+00,  4.34167118e+00,  7.00879873e+00,\n",
       "        1.39111821e+00,  9.00145632e+00,  5.17408794e+00, -1.78058819e+00,\n",
       "        4.43385357e+00,  4.83168182e+00,  1.90472173e+00,  9.54627832e-01,\n",
       "       -3.37466850e-02,  5.96264810e+00,  9.57700271e+00,  5.83734500e+00,\n",
       "        7.01614090e+00,  1.57361228e+00,  1.62817252e+01,  6.16834960e+00,\n",
       "        7.73219207e+00,  1.96925310e+00,  1.80365662e+01,  6.60139944e+00,\n",
       "        1.52311134e+01,  6.56226836e+00,  6.12111575e+00, -9.88270910e-02,\n",
       "        3.53577288e+00, -1.93103669e-01,  4.15971735e+00,  7.48880392e+00,\n",
       "        2.00587971e+01,  6.15680445e+00,  7.79212455e-01,  1.45485273e+01,\n",
       "        4.00582633e+00,  2.53228926e+00, -9.58855419e-01,  1.15704648e+00,\n",
       "        1.14482095e+00,  2.41957221e+00,  4.05661012e+00,  8.79654001e+00,\n",
       "        5.29829725e+00,  4.83632103e+00,  8.75286314e+00,  1.14248344e+01,\n",
       "        1.45804066e+00,  6.50145170e+00,  6.70988356e+00,  2.45084633e+00,\n",
       "        2.62852128e+00,  8.03370360e+00,  6.61370676e-01])"
      ]
     },
     "execution_count": 18,
     "metadata": {},
     "output_type": "execute_result"
    }
   ],
   "source": [
    "# Predicting the training dataset\n",
    "predicted_train_data = lin_reg.predict(x_train)\n",
    "predicted_train_data"
   ]
  },
  {
   "cell_type": "code",
   "execution_count": 20,
   "id": "88a23d32",
   "metadata": {},
   "outputs": [
    {
     "name": "stdout",
     "output_type": "stream",
     "text": [
      "R Squared Error: 0.8745895109613083\n"
     ]
    }
   ],
   "source": [
    "# R Squared Error\n",
    "from sklearn.metrics import r2_score\n",
    "error_score = r2_score(predicted_train_data,y_train)\n",
    "print(\"R Squared Error:\",error_score)"
   ]
  },
  {
   "cell_type": "code",
   "execution_count": 21,
   "id": "96e4a9d1",
   "metadata": {},
   "outputs": [
    {
     "data": {
      "image/png": "[encoded data removed]",
      "text/plain": [
       "<Figure size 640x480 with 1 Axes>"
      ]
     },
     "metadata": {},
     "output_type": "display_data"
    }
   ],
   "source": [
    "# Visualizing Actual Prices vs Predicted Prices of training dataset\n",
    "plt.scatter(y_train,predicted_train_data)\n",
    "plt.xlabel(\"Actual Prices\")\n",
    "plt.ylabel(\"Predicted Prices\")\n",
    "plt.show()"
   ]
  },
  {
   "cell_type": "code",
   "execution_count": 22,
   "id": "31c8be2f",
   "metadata": {},
   "outputs": [
    {
     "name": "stdout",
     "output_type": "stream",
     "text": [
      "Test Data Accuracy: 0.803174235585372\n"
     ]
    }
   ],
   "source": [
    "# Test data accuracy\n",
    "print(\"Test Data Accuracy:\",lin_reg.score(x_test,y_test))"
   ]
  },
  {
   "cell_type": "code",
   "execution_count": 23,
   "id": "082bf86d",
   "metadata": {},
   "outputs": [
    {
     "data": {
      "text/plain": [
       "array([ 0.26936794,  6.65252344,  5.79379329,  7.11506809, -1.49548176,\n",
       "        1.98229552,  0.73600911,  0.28011463,  2.69191841,  1.18394323,\n",
       "        5.28723415,  4.89685034,  4.37141886,  6.29741849, 10.63983237,\n",
       "        6.57399593,  6.8947632 , 16.31632629,  3.84909221,  4.58534829,\n",
       "        3.21967037,  2.56131077,  4.44016202,  0.91219447,  0.81061808,\n",
       "        1.99853192,  6.90881751,  4.6390924 ,  1.56803445,  0.43479353,\n",
       "        1.20845688, 10.18410444,  5.64997302,  2.98310004,  7.37708188,\n",
       "        9.35812048,  3.3248966 ,  1.70541588,  2.31713037,  6.34055535,\n",
       "        7.33768641,  4.42539738,  1.96038798,  2.21510187, -0.33699262,\n",
       "        4.58937413, -2.24919708,  5.26434996,  7.5348015 ,  1.94710751,\n",
       "        2.15176732,  2.80069696,  4.89939468,  9.39857088,  0.64957346,\n",
       "       14.60582481,  2.03706117,  4.44459585,  2.06780923,  5.37418628])"
      ]
     },
     "execution_count": 23,
     "metadata": {},
     "output_type": "execute_result"
    }
   ],
   "source": [
    "# Predicting the training dataset\n",
    "predicted_test_data = lin_reg.predict(x_test)\n",
    "predicted_test_data"
   ]
  },
  {
   "cell_type": "code",
   "execution_count": 24,
   "id": "201efbc3",
   "metadata": {},
   "outputs": [
    {
     "name": "stdout",
     "output_type": "stream",
     "text": [
      "R Squared Error: 0.7342374602751272\n"
     ]
    }
   ],
   "source": [
    "# R Squared Error\n",
    "from sklearn.metrics import r2_score\n",
    "error_score = r2_score(predicted_test_data,y_test)\n",
    "print(\"R Squared Error:\",error_score)"
   ]
  },
  {
   "cell_type": "code",
   "execution_count": 25,
   "id": "dcd9880a",
   "metadata": {},
   "outputs": [
    {
     "data": {
      "image/png": "[encoded data removed]",
      "text/plain": [
       "<Figure size 640x480 with 1 Axes>"
      ]
     },
     "metadata": {},
     "output_type": "display_data"
    }
   ],
   "source": [
    "# Visualizing Actual Prices vs Predicted Prices of test dataset\n",
    "plt.scatter(y_test,predicted_test_data)\n",
    "plt.xlabel(\"Actual Prices\")\n",
    "plt.ylabel(\"Predicted Prices\")\n",
    "plt.show()"
   ]
  },
  {
   "cell_type": "markdown",
   "id": "72da67e4",
   "metadata": {},
   "source": [
    "# Training the model to Lasso Model"
   ]
  },
  {
   "cell_type": "code",
   "execution_count": 26,
   "id": "df105190",
   "metadata": {},
   "outputs": [
    {
     "data": {
      "text/plain": [
       "Lasso()"
      ]
     },
     "execution_count": 26,
     "metadata": {},
     "output_type": "execute_result"
    }
   ],
   "source": [
    "from sklearn.linear_model import Lasso\n",
    "lasso = Lasso()\n",
    "lasso.fit(x_train,y_train)"
   ]
  },
  {
   "cell_type": "markdown",
   "id": "4b554cd8",
   "metadata": {},
   "source": [
    "# Model Evaluation"
   ]
  },
  {
   "cell_type": "code",
   "execution_count": 27,
   "id": "67cd9e6e",
   "metadata": {},
   "outputs": [
    {
     "name": "stdout",
     "output_type": "stream",
     "text": [
      "Trianing Data Accuracy: 0.853151892033131\n"
     ]
    }
   ],
   "source": [
    "# Training data accuracy\n",
    "print(\"Trianing Data Accuracy:\",lasso.score(x_train,y_train))"
   ]
  },
  {
   "cell_type": "code",
   "execution_count": 28,
   "id": "80d0b43d",
   "metadata": {},
   "outputs": [
    {
     "name": "stdout",
     "output_type": "stream",
     "text": [
      "Test Data Accuracy: 0.803174235585372\n"
     ]
    }
   ],
   "source": [
    "# Test data accuracy\n",
    "print(\"Test Data Accuracy:\",lin_reg.score(x_test,y_test))"
   ]
  },
  {
   "cell_type": "markdown",
   "id": "9c261f4c",
   "metadata": {},
   "source": [
    "# Training the model to Ridge Model"
   ]
  },
  {
   "cell_type": "code",
   "execution_count": 29,
   "id": "c01cb76b",
   "metadata": {},
   "outputs": [
    {
     "data": {
      "text/plain": [
       "Ridge()"
      ]
     },
     "execution_count": 29,
     "metadata": {},
     "output_type": "execute_result"
    }
   ],
   "source": [
    "from sklearn.linear_model import Ridge\n",
    "ridge = Ridge()\n",
    "ridge.fit(x_train,y_train)"
   ]
  },
  {
   "cell_type": "markdown",
   "id": "3d333515",
   "metadata": {},
   "source": [
    "# Model Evaluation"
   ]
  },
  {
   "cell_type": "code",
   "execution_count": 30,
   "id": "0437ec6f",
   "metadata": {},
   "outputs": [
    {
     "name": "stdout",
     "output_type": "stream",
     "text": [
      "Trianing Data Accuracy: 0.8885312734872256\n"
     ]
    }
   ],
   "source": [
    "# Training data accuracy\n",
    "print(\"Trianing Data Accuracy:\",ridge.score(x_train,y_train))"
   ]
  },
  {
   "cell_type": "code",
   "execution_count": 31,
   "id": "1f427878",
   "metadata": {},
   "outputs": [
    {
     "name": "stdout",
     "output_type": "stream",
     "text": [
      "Test Data Accuracy: 0.8042954000497925\n"
     ]
    }
   ],
   "source": [
    "# Test data accuracy\n",
    "print(\"Test Data Accuracy:\",ridge.score(x_test,y_test))"
   ]
  },
  {
   "cell_type": "markdown",
   "id": "79107559",
   "metadata": {},
   "source": [
    "# Comparing 3 different models,we can see that,Lasso model is suitable for this dataset"
   ]
  },
  {
   "cell_type": "code",
   "execution_count": null,
   "id": "ecbd3543",
   "metadata": {},
   "outputs": [],
   "source": []
  }
 ],
 "metadata": {
  "kernelspec": {
   "display_name": "Python 3 (ipykernel)",
   "language": "python",
   "name": "python3"
  },
  "language_info": {
   "codemirror_mode": {
    "name": "ipython",
    "version": 3
   },
   "file_extension": ".py",
   "mimetype": "text/x-python",
   "name": "python",
   "nbconvert_exporter": "python",
   "pygments_lexer": "ipython3",
   "version": "3.7.13"
  }
 },
 "nbformat": 4,
 "nbformat_minor": 5
}
